{
 "cells": [
  {
   "cell_type": "markdown",
   "source": [
    "# Basic Descriptive Analytics with Python\r\n",
    "This notbook is a submission for CSDA1010 - Basic Methods of Data Analytics course asignement individual asignement one."
   ],
   "metadata": {
    "tags": []
   }
  },
  {
   "cell_type": "code",
   "execution_count": 1,
   "source": [
    "# import the necessary packages to manipulalate data\r\n",
    "import os\r\n",
    "import pandas as pd\r\n",
    "import matplotlib.pyplot as plt\r\n",
    "%matplotlib inline"
   ],
   "outputs": [],
   "metadata": {}
  },
  {
   "cell_type": "code",
   "execution_count": 2,
   "source": [
    "#set working directory as the current working directory\r\n",
    "os.chdir(os.getcwd()) "
   ],
   "outputs": [],
   "metadata": {}
  },
  {
   "cell_type": "code",
   "execution_count": 3,
   "source": [
    "# import data as a pandas dataframe\r\n",
    "# IBMStock.csv, GEStock.csv, ProcterGambleStock.csv, CocaColaStock.csv, BoeingStock.csv\r\n",
    "\r\n",
    "IBM = pd.read_csv('data/IBMStock.csv')\r\n",
    "GE = pd.read_csv('data/GEStock.csv')\r\n",
    "ProcterGamble = pd.read_csv('data/ProcterGambleStock.csv')\r\n",
    "CocaCola = pd.read_csv('data/CocaColaStock.csv')\r\n",
    "Boeing = pd.read_csv('data/BoeingStock.csv')\r\n"
   ],
   "outputs": [],
   "metadata": {}
  },
  {
   "cell_type": "code",
   "execution_count": 4,
   "source": [
    "GE.head()"
   ],
   "outputs": [
    {
     "output_type": "execute_result",
     "data": {
      "text/plain": [
       "     Date  StockPrice\n",
       "0  1/1/70   74.253333\n",
       "1  2/1/70   69.976842\n",
       "2  3/1/70   72.158571\n",
       "3  4/1/70   74.252727\n",
       "4  5/1/70   66.665238"
      ],
      "text/html": [
       "<div>\n",
       "<style scoped>\n",
       "    .dataframe tbody tr th:only-of-type {\n",
       "        vertical-align: middle;\n",
       "    }\n",
       "\n",
       "    .dataframe tbody tr th {\n",
       "        vertical-align: top;\n",
       "    }\n",
       "\n",
       "    .dataframe thead th {\n",
       "        text-align: right;\n",
       "    }\n",
       "</style>\n",
       "<table border=\"1\" class=\"dataframe\">\n",
       "  <thead>\n",
       "    <tr style=\"text-align: right;\">\n",
       "      <th></th>\n",
       "      <th>Date</th>\n",
       "      <th>StockPrice</th>\n",
       "    </tr>\n",
       "  </thead>\n",
       "  <tbody>\n",
       "    <tr>\n",
       "      <th>0</th>\n",
       "      <td>1/1/70</td>\n",
       "      <td>74.253333</td>\n",
       "    </tr>\n",
       "    <tr>\n",
       "      <th>1</th>\n",
       "      <td>2/1/70</td>\n",
       "      <td>69.976842</td>\n",
       "    </tr>\n",
       "    <tr>\n",
       "      <th>2</th>\n",
       "      <td>3/1/70</td>\n",
       "      <td>72.158571</td>\n",
       "    </tr>\n",
       "    <tr>\n",
       "      <th>3</th>\n",
       "      <td>4/1/70</td>\n",
       "      <td>74.252727</td>\n",
       "    </tr>\n",
       "    <tr>\n",
       "      <th>4</th>\n",
       "      <td>5/1/70</td>\n",
       "      <td>66.665238</td>\n",
       "    </tr>\n",
       "  </tbody>\n",
       "</table>\n",
       "</div>"
      ]
     },
     "metadata": {},
     "execution_count": 4
    }
   ],
   "metadata": {}
  },
  {
   "cell_type": "markdown",
   "source": [
    "## Change datatypes for all stock dataframes\r\n",
    "- Change Date datatype as a native datetime rather than the default object "
   ],
   "metadata": {}
  },
  {
   "cell_type": "code",
   "execution_count": 5,
   "source": [
    "IBM['Date'] = pd.to_datetime(IBM['Date'], format='%m/%d/%y')\r\n",
    "GE['Date'] = pd.to_datetime(GE['Date'], format='%m/%d/%y')\r\n",
    "ProcterGamble['Date'] = pd.to_datetime(ProcterGamble['Date'], format='%m/%d/%y')\r\n",
    "CocaCola['Date'] = pd.to_datetime(CocaCola['Date'], format='%m/%d/%y')\r\n",
    "Boeing['Date'] = pd.to_datetime(Boeing['Date'], format='%m/%d/%y')"
   ],
   "outputs": [],
   "metadata": {}
  },
  {
   "cell_type": "code",
   "execution_count": 6,
   "source": [
    "# Check the data after data type adjstement\r\n",
    "IBM.head()"
   ],
   "outputs": [
    {
     "output_type": "execute_result",
     "data": {
      "text/plain": [
       "        Date  StockPrice\n",
       "0 1970-01-01  360.319048\n",
       "1 1970-02-01  346.723684\n",
       "2 1970-03-01  327.345714\n",
       "3 1970-04-01  319.852727\n",
       "4 1970-05-01  270.375238"
      ],
      "text/html": [
       "<div>\n",
       "<style scoped>\n",
       "    .dataframe tbody tr th:only-of-type {\n",
       "        vertical-align: middle;\n",
       "    }\n",
       "\n",
       "    .dataframe tbody tr th {\n",
       "        vertical-align: top;\n",
       "    }\n",
       "\n",
       "    .dataframe thead th {\n",
       "        text-align: right;\n",
       "    }\n",
       "</style>\n",
       "<table border=\"1\" class=\"dataframe\">\n",
       "  <thead>\n",
       "    <tr style=\"text-align: right;\">\n",
       "      <th></th>\n",
       "      <th>Date</th>\n",
       "      <th>StockPrice</th>\n",
       "    </tr>\n",
       "  </thead>\n",
       "  <tbody>\n",
       "    <tr>\n",
       "      <th>0</th>\n",
       "      <td>1970-01-01</td>\n",
       "      <td>360.319048</td>\n",
       "    </tr>\n",
       "    <tr>\n",
       "      <th>1</th>\n",
       "      <td>1970-02-01</td>\n",
       "      <td>346.723684</td>\n",
       "    </tr>\n",
       "    <tr>\n",
       "      <th>2</th>\n",
       "      <td>1970-03-01</td>\n",
       "      <td>327.345714</td>\n",
       "    </tr>\n",
       "    <tr>\n",
       "      <th>3</th>\n",
       "      <td>1970-04-01</td>\n",
       "      <td>319.852727</td>\n",
       "    </tr>\n",
       "    <tr>\n",
       "      <th>4</th>\n",
       "      <td>1970-05-01</td>\n",
       "      <td>270.375238</td>\n",
       "    </tr>\n",
       "  </tbody>\n",
       "</table>\n",
       "</div>"
      ]
     },
     "metadata": {},
     "execution_count": 6
    }
   ],
   "metadata": {}
  },
  {
   "cell_type": "code",
   "execution_count": 7,
   "source": [
    "GE.head()"
   ],
   "outputs": [
    {
     "output_type": "execute_result",
     "data": {
      "text/plain": [
       "        Date  StockPrice\n",
       "0 1970-01-01   74.253333\n",
       "1 1970-02-01   69.976842\n",
       "2 1970-03-01   72.158571\n",
       "3 1970-04-01   74.252727\n",
       "4 1970-05-01   66.665238"
      ],
      "text/html": [
       "<div>\n",
       "<style scoped>\n",
       "    .dataframe tbody tr th:only-of-type {\n",
       "        vertical-align: middle;\n",
       "    }\n",
       "\n",
       "    .dataframe tbody tr th {\n",
       "        vertical-align: top;\n",
       "    }\n",
       "\n",
       "    .dataframe thead th {\n",
       "        text-align: right;\n",
       "    }\n",
       "</style>\n",
       "<table border=\"1\" class=\"dataframe\">\n",
       "  <thead>\n",
       "    <tr style=\"text-align: right;\">\n",
       "      <th></th>\n",
       "      <th>Date</th>\n",
       "      <th>StockPrice</th>\n",
       "    </tr>\n",
       "  </thead>\n",
       "  <tbody>\n",
       "    <tr>\n",
       "      <th>0</th>\n",
       "      <td>1970-01-01</td>\n",
       "      <td>74.253333</td>\n",
       "    </tr>\n",
       "    <tr>\n",
       "      <th>1</th>\n",
       "      <td>1970-02-01</td>\n",
       "      <td>69.976842</td>\n",
       "    </tr>\n",
       "    <tr>\n",
       "      <th>2</th>\n",
       "      <td>1970-03-01</td>\n",
       "      <td>72.158571</td>\n",
       "    </tr>\n",
       "    <tr>\n",
       "      <th>3</th>\n",
       "      <td>1970-04-01</td>\n",
       "      <td>74.252727</td>\n",
       "    </tr>\n",
       "    <tr>\n",
       "      <th>4</th>\n",
       "      <td>1970-05-01</td>\n",
       "      <td>66.665238</td>\n",
       "    </tr>\n",
       "  </tbody>\n",
       "</table>\n",
       "</div>"
      ]
     },
     "metadata": {},
     "execution_count": 7
    }
   ],
   "metadata": {}
  },
  {
   "cell_type": "code",
   "execution_count": 8,
   "source": [
    "ProcterGamble.head()"
   ],
   "outputs": [
    {
     "output_type": "execute_result",
     "data": {
      "text/plain": [
       "        Date  StockPrice\n",
       "0 1970-01-01  111.874286\n",
       "1 1970-02-01  111.453684\n",
       "2 1970-03-01  108.451429\n",
       "3 1970-04-01  106.288636\n",
       "4 1970-05-01   73.332857"
      ],
      "text/html": [
       "<div>\n",
       "<style scoped>\n",
       "    .dataframe tbody tr th:only-of-type {\n",
       "        vertical-align: middle;\n",
       "    }\n",
       "\n",
       "    .dataframe tbody tr th {\n",
       "        vertical-align: top;\n",
       "    }\n",
       "\n",
       "    .dataframe thead th {\n",
       "        text-align: right;\n",
       "    }\n",
       "</style>\n",
       "<table border=\"1\" class=\"dataframe\">\n",
       "  <thead>\n",
       "    <tr style=\"text-align: right;\">\n",
       "      <th></th>\n",
       "      <th>Date</th>\n",
       "      <th>StockPrice</th>\n",
       "    </tr>\n",
       "  </thead>\n",
       "  <tbody>\n",
       "    <tr>\n",
       "      <th>0</th>\n",
       "      <td>1970-01-01</td>\n",
       "      <td>111.874286</td>\n",
       "    </tr>\n",
       "    <tr>\n",
       "      <th>1</th>\n",
       "      <td>1970-02-01</td>\n",
       "      <td>111.453684</td>\n",
       "    </tr>\n",
       "    <tr>\n",
       "      <th>2</th>\n",
       "      <td>1970-03-01</td>\n",
       "      <td>108.451429</td>\n",
       "    </tr>\n",
       "    <tr>\n",
       "      <th>3</th>\n",
       "      <td>1970-04-01</td>\n",
       "      <td>106.288636</td>\n",
       "    </tr>\n",
       "    <tr>\n",
       "      <th>4</th>\n",
       "      <td>1970-05-01</td>\n",
       "      <td>73.332857</td>\n",
       "    </tr>\n",
       "  </tbody>\n",
       "</table>\n",
       "</div>"
      ]
     },
     "metadata": {},
     "execution_count": 8
    }
   ],
   "metadata": {}
  },
  {
   "cell_type": "code",
   "execution_count": 9,
   "source": [
    "CocaCola.head()"
   ],
   "outputs": [
    {
     "output_type": "execute_result",
     "data": {
      "text/plain": [
       "        Date  StockPrice\n",
       "0 1970-01-01   83.368095\n",
       "1 1970-02-01   81.591053\n",
       "2 1970-03-01   81.338095\n",
       "3 1970-04-01   76.805909\n",
       "4 1970-05-01   69.278571"
      ],
      "text/html": [
       "<div>\n",
       "<style scoped>\n",
       "    .dataframe tbody tr th:only-of-type {\n",
       "        vertical-align: middle;\n",
       "    }\n",
       "\n",
       "    .dataframe tbody tr th {\n",
       "        vertical-align: top;\n",
       "    }\n",
       "\n",
       "    .dataframe thead th {\n",
       "        text-align: right;\n",
       "    }\n",
       "</style>\n",
       "<table border=\"1\" class=\"dataframe\">\n",
       "  <thead>\n",
       "    <tr style=\"text-align: right;\">\n",
       "      <th></th>\n",
       "      <th>Date</th>\n",
       "      <th>StockPrice</th>\n",
       "    </tr>\n",
       "  </thead>\n",
       "  <tbody>\n",
       "    <tr>\n",
       "      <th>0</th>\n",
       "      <td>1970-01-01</td>\n",
       "      <td>83.368095</td>\n",
       "    </tr>\n",
       "    <tr>\n",
       "      <th>1</th>\n",
       "      <td>1970-02-01</td>\n",
       "      <td>81.591053</td>\n",
       "    </tr>\n",
       "    <tr>\n",
       "      <th>2</th>\n",
       "      <td>1970-03-01</td>\n",
       "      <td>81.338095</td>\n",
       "    </tr>\n",
       "    <tr>\n",
       "      <th>3</th>\n",
       "      <td>1970-04-01</td>\n",
       "      <td>76.805909</td>\n",
       "    </tr>\n",
       "    <tr>\n",
       "      <th>4</th>\n",
       "      <td>1970-05-01</td>\n",
       "      <td>69.278571</td>\n",
       "    </tr>\n",
       "  </tbody>\n",
       "</table>\n",
       "</div>"
      ]
     },
     "metadata": {},
     "execution_count": 9
    }
   ],
   "metadata": {}
  },
  {
   "cell_type": "code",
   "execution_count": 10,
   "source": [
    "Boeing.head()"
   ],
   "outputs": [
    {
     "output_type": "execute_result",
     "data": {
      "text/plain": [
       "        Date  StockPrice\n",
       "0 1970-01-01   27.853810\n",
       "1 1970-02-01   22.381053\n",
       "2 1970-03-01   23.105238\n",
       "3 1970-04-01   21.571364\n",
       "4 1970-05-01   18.932857"
      ],
      "text/html": [
       "<div>\n",
       "<style scoped>\n",
       "    .dataframe tbody tr th:only-of-type {\n",
       "        vertical-align: middle;\n",
       "    }\n",
       "\n",
       "    .dataframe tbody tr th {\n",
       "        vertical-align: top;\n",
       "    }\n",
       "\n",
       "    .dataframe thead th {\n",
       "        text-align: right;\n",
       "    }\n",
       "</style>\n",
       "<table border=\"1\" class=\"dataframe\">\n",
       "  <thead>\n",
       "    <tr style=\"text-align: right;\">\n",
       "      <th></th>\n",
       "      <th>Date</th>\n",
       "      <th>StockPrice</th>\n",
       "    </tr>\n",
       "  </thead>\n",
       "  <tbody>\n",
       "    <tr>\n",
       "      <th>0</th>\n",
       "      <td>1970-01-01</td>\n",
       "      <td>27.853810</td>\n",
       "    </tr>\n",
       "    <tr>\n",
       "      <th>1</th>\n",
       "      <td>1970-02-01</td>\n",
       "      <td>22.381053</td>\n",
       "    </tr>\n",
       "    <tr>\n",
       "      <th>2</th>\n",
       "      <td>1970-03-01</td>\n",
       "      <td>23.105238</td>\n",
       "    </tr>\n",
       "    <tr>\n",
       "      <th>3</th>\n",
       "      <td>1970-04-01</td>\n",
       "      <td>21.571364</td>\n",
       "    </tr>\n",
       "    <tr>\n",
       "      <th>4</th>\n",
       "      <td>1970-05-01</td>\n",
       "      <td>18.932857</td>\n",
       "    </tr>\n",
       "  </tbody>\n",
       "</table>\n",
       "</div>"
      ]
     },
     "metadata": {},
     "execution_count": 10
    }
   ],
   "metadata": {}
  },
  {
   "cell_type": "markdown",
   "source": [
    "## Warm-up/Basic statistics Questions\r\n",
    "\r\n",
    "### 1. How many rows of data are in each dataset?"
   ],
   "metadata": {}
  },
  {
   "cell_type": "code",
   "execution_count": 11,
   "source": [
    "print(\"There are {} rows and {} columns in IBMStock dataset\". format(IBM.shape[0], IBM.shape[1]))\r\n",
    "print(\"There are {} rows and {} columns in GEStock dataset\". format(GE.shape[0], GE.shape[1]))\r\n",
    "print(\"There are {} rows and {} columns in ProcterGambleStock dataset\". format(ProcterGamble.shape[0], ProcterGamble.shape[1]))\r\n",
    "print(\"There are {} rows and {} columns in CocaColaStock dataset\". format(CocaCola.shape[0], CocaCola.shape[1]))\r\n",
    "print(\"There are {} rows and {} columns in BoeingStock dataset\". format(Boeing.shape[0], Boeing.shape[1]))\r\n"
   ],
   "outputs": [
    {
     "output_type": "stream",
     "name": "stdout",
     "text": [
      "There are 480 rows and 2 columns in IBMStock dataset\n",
      "There are 480 rows and 2 columns in GEStock dataset\n",
      "There are 480 rows and 2 columns in ProcterGambleStock dataset\n",
      "There are 480 rows and 2 columns in CocaColaStock dataset\n",
      "There are 480 rows and 2 columns in BoeingStock dataset\n"
     ]
    }
   ],
   "metadata": {}
  },
  {
   "cell_type": "markdown",
   "source": [
    "### 2. What is the earliest/latest year in our datasets?"
   ],
   "metadata": {}
  },
  {
   "cell_type": "code",
   "execution_count": 12,
   "source": [
    "# Finding the earliest and latest year in our dataset\r\n",
    "print(\"The  earliest year is IBMStock dataset {}\".format(IBM['Date'].dt.year.min()))\r\n",
    "print(\"The  latest year is IBMStock dataset {}\".format(IBM['Date'].dt.year.max()))\r\n",
    "print(\"\\n\")\r\n",
    "print(\"The  earliest year is GEStock dataset {}\".format(GE['Date'].dt.year.min()))\r\n",
    "print(\"The  latest year is GEStock  dataset {}\".format(IBM['Date'].dt.year.max()))"
   ],
   "outputs": [
    {
     "output_type": "stream",
     "name": "stdout",
     "text": [
      "The  earliest year is IBMStock dataset 1970\n",
      "The  latest year is IBMStock dataset 2009\n",
      "\n",
      "\n",
      "The  earliest year is GEStock dataset 1970\n",
      "The  latest year is GEStock  dataset 2009\n"
     ]
    }
   ],
   "metadata": {}
  },
  {
   "cell_type": "markdown",
   "source": [
    "### 3. For the period above what is the average stock price of Coca Cola?"
   ],
   "metadata": {}
  },
  {
   "cell_type": "code",
   "execution_count": 13,
   "source": [
    "# The avaregae stock price for Coca Cola from Year 1970 to 2009\r\n",
    "print(\"The average Coca Cola is {}\".format(CocaCola.StockPrice.mean()))"
   ],
   "outputs": [
    {
     "output_type": "stream",
     "name": "stdout",
     "text": [
      "The average Coca Cola is 60.029729733270834\n"
     ]
    }
   ],
   "metadata": {}
  },
  {
   "cell_type": "markdown",
   "source": [
    "### 4. What is the maximum price of IBM during this period?"
   ],
   "metadata": {}
  },
  {
   "cell_type": "code",
   "execution_count": 14,
   "source": [
    "print(\"The maximum price of IBM is {}\".format(IBM.StockPrice.max()))"
   ],
   "outputs": [
    {
     "output_type": "stream",
     "name": "stdout",
     "text": [
      "The maximum price of IBM is 438.9015789\n"
     ]
    }
   ],
   "metadata": {}
  },
  {
   "cell_type": "markdown",
   "source": [
    "### 5. What is the standard deviation of P&G stock price over this period?"
   ],
   "metadata": {}
  },
  {
   "cell_type": "code",
   "execution_count": 15,
   "source": [
    "print(\"The standard deviation of P&G stock is {}\".format(ProcterGamble.StockPrice.std()))"
   ],
   "outputs": [
    {
     "output_type": "stream",
     "name": "stdout",
     "text": [
      "The standard deviation of P&G stock is 18.19414030797156\n"
     ]
    }
   ],
   "metadata": {}
  },
  {
   "cell_type": "markdown",
   "source": [
    "### 6. What is the median price of Boeing in the last 5 years for which we have data?"
   ],
   "metadata": {}
  },
  {
   "cell_type": "code",
   "execution_count": 16,
   "source": [
    "# To get the last five years, subtract 5 from the max year\r\n",
    "\r\n",
    "last_five_year_data = Boeing[Boeing.Date.dt.year > Boeing.Date.dt.year.max() - 5]\r\n",
    "\r\n",
    "print(\"The median price of Boeing Stock price in the last 5 years is {}\".format(last_five_year_data.StockPrice.median()))\r\n"
   ],
   "outputs": [
    {
     "output_type": "stream",
     "name": "stdout",
     "text": [
      "The median price of Boeing Stock price in the last 5 years is 69.675666665\n"
     ]
    }
   ],
   "metadata": {}
  },
  {
   "cell_type": "markdown",
   "source": [
    "## Basic Plotting Questions"
   ],
   "metadata": {}
  },
  {
   "cell_type": "markdown",
   "source": [
    "### Part 1:\r\n",
    "Plot the StockPrice of Coca-Cola on the Y-axis across Date on the x-axis using the basic plot() fuction. What do you see when you use the default plot function what do you see? Scatter-plot, eh?"
   ],
   "metadata": {}
  },
  {
   "cell_type": "code",
   "execution_count": 21,
   "source": [
    "plt.xlabel('Date')\r\n",
    "plt.ylabel(\"Stock Price\")\r\n",
    "plt.title(\"Stock to Year\")\r\n",
    "plt.plot(CocaCola.Date, CocaCola.StockPrice)"
   ],
   "outputs": [
    {
     "output_type": "execute_result",
     "data": {
      "text/plain": [
       "[<matplotlib.lines.Line2D at 0x1a22f2ead90>]"
      ]
     },
     "metadata": {},
     "execution_count": 21
    },
    {
     "output_type": "display_data",
     "data": {
      "text/plain": [
       "<Figure size 432x288 with 1 Axes>"
      ],
      "image/svg+xml": "<?xml version=\"1.0\" encoding=\"utf-8\" standalone=\"no\"?>\r\n<!DOCTYPE svg PUBLIC \"-//W3C//DTD SVG 1.1//EN\"\r\n  \"http://www.w3.org/Graphics/SVG/1.1/DTD/svg11.dtd\">\r\n<svg height=\"277.314375pt\" version=\"1.1\" viewBox=\"0 0 388.965625 277.314375\" width=\"388.965625pt\" xmlns=\"http://www.w3.org/2000/svg\" xmlns:xlink=\"http://www.w3.org/1999/xlink\">\r\n <metadata>\r\n  <rdf:RDF xmlns:cc=\"http://creativecommons.org/ns#\" xmlns:dc=\"http://purl.org/dc/elements/1.1/\" xmlns:rdf=\"http://www.w3.org/1999/02/22-rdf-syntax-ns#\">\r\n   <cc:Work>\r\n    <dc:type rdf:resource=\"http://purl.org/dc/dcmitype/StillImage\"/>\r\n    <dc:date>2021-08-10T14:38:59.491090</dc:date>\r\n    <dc:format>image/svg+xml</dc:format>\r\n    <dc:creator>\r\n     <cc:Agent>\r\n      <dc:title>Matplotlib v3.4.2, https://matplotlib.org/</dc:title>\r\n     </cc:Agent>\r\n    </dc:creator>\r\n   </cc:Work>\r\n  </rdf:RDF>\r\n </metadata>\r\n <defs>\r\n  <style type=\"text/css\">*{stroke-linecap:butt;stroke-linejoin:round;}</style>\r\n </defs>\r\n <g id=\"figure_1\">\r\n  <g id=\"patch_1\">\r\n   <path d=\"M 0 277.314375 \r\nL 388.965625 277.314375 \r\nL 388.965625 0 \r\nL 0 0 \r\nz\r\n\" style=\"fill:none;\"/>\r\n  </g>\r\n  <g id=\"axes_1\">\r\n   <g id=\"patch_2\">\r\n    <path d=\"M 46.965625 239.758125 \r\nL 381.765625 239.758125 \r\nL 381.765625 22.318125 \r\nL 46.965625 22.318125 \r\nz\r\n\" style=\"fill:#ffffff;\"/>\r\n   </g>\r\n   <g id=\"matplotlib.axis_1\">\r\n    <g id=\"xtick_1\">\r\n     <g id=\"line2d_1\">\r\n      <defs>\r\n       <path d=\"M 0 0 \r\nL 0 3.5 \r\n\" id=\"md7698bd6fb\" style=\"stroke:#000000;stroke-width:0.8;\"/>\r\n      </defs>\r\n      <g>\r\n       <use style=\"stroke:#000000;stroke-width:0.8;\" x=\"62.183807\" xlink:href=\"#md7698bd6fb\" y=\"239.758125\"/>\r\n      </g>\r\n     </g>\r\n     <g id=\"text_1\">\r\n      <!-- 1970 -->\r\n      <g transform=\"translate(49.458807 254.356562)scale(0.1 -0.1)\">\r\n       <defs>\r\n        <path d=\"M 794 531 \r\nL 1825 531 \r\nL 1825 4091 \r\nL 703 3866 \r\nL 703 4441 \r\nL 1819 4666 \r\nL 2450 4666 \r\nL 2450 531 \r\nL 3481 531 \r\nL 3481 0 \r\nL 794 0 \r\nL 794 531 \r\nz\r\n\" id=\"DejaVuSans-31\" transform=\"scale(0.015625)\"/>\r\n        <path d=\"M 703 97 \r\nL 703 672 \r\nQ 941 559 1184 500 \r\nQ 1428 441 1663 441 \r\nQ 2288 441 2617 861 \r\nQ 2947 1281 2994 2138 \r\nQ 2813 1869 2534 1725 \r\nQ 2256 1581 1919 1581 \r\nQ 1219 1581 811 2004 \r\nQ 403 2428 403 3163 \r\nQ 403 3881 828 4315 \r\nQ 1253 4750 1959 4750 \r\nQ 2769 4750 3195 4129 \r\nQ 3622 3509 3622 2328 \r\nQ 3622 1225 3098 567 \r\nQ 2575 -91 1691 -91 \r\nQ 1453 -91 1209 -44 \r\nQ 966 3 703 97 \r\nz\r\nM 1959 2075 \r\nQ 2384 2075 2632 2365 \r\nQ 2881 2656 2881 3163 \r\nQ 2881 3666 2632 3958 \r\nQ 2384 4250 1959 4250 \r\nQ 1534 4250 1286 3958 \r\nQ 1038 3666 1038 3163 \r\nQ 1038 2656 1286 2365 \r\nQ 1534 2075 1959 2075 \r\nz\r\n\" id=\"DejaVuSans-39\" transform=\"scale(0.015625)\"/>\r\n        <path d=\"M 525 4666 \r\nL 3525 4666 \r\nL 3525 4397 \r\nL 1831 0 \r\nL 1172 0 \r\nL 2766 4134 \r\nL 525 4134 \r\nL 525 4666 \r\nz\r\n\" id=\"DejaVuSans-37\" transform=\"scale(0.015625)\"/>\r\n        <path d=\"M 2034 4250 \r\nQ 1547 4250 1301 3770 \r\nQ 1056 3291 1056 2328 \r\nQ 1056 1369 1301 889 \r\nQ 1547 409 2034 409 \r\nQ 2525 409 2770 889 \r\nQ 3016 1369 3016 2328 \r\nQ 3016 3291 2770 3770 \r\nQ 2525 4250 2034 4250 \r\nz\r\nM 2034 4750 \r\nQ 2819 4750 3233 4129 \r\nQ 3647 3509 3647 2328 \r\nQ 3647 1150 3233 529 \r\nQ 2819 -91 2034 -91 \r\nQ 1250 -91 836 529 \r\nQ 422 1150 422 2328 \r\nQ 422 3509 836 4129 \r\nQ 1250 4750 2034 4750 \r\nz\r\n\" id=\"DejaVuSans-30\" transform=\"scale(0.015625)\"/>\r\n       </defs>\r\n       <use xlink:href=\"#DejaVuSans-31\"/>\r\n       <use x=\"63.623047\" xlink:href=\"#DejaVuSans-39\"/>\r\n       <use x=\"127.246094\" xlink:href=\"#DejaVuSans-37\"/>\r\n       <use x=\"190.869141\" xlink:href=\"#DejaVuSans-30\"/>\r\n      </g>\r\n     </g>\r\n    </g>\r\n    <g id=\"xtick_2\">\r\n     <g id=\"line2d_2\">\r\n      <g>\r\n       <use style=\"stroke:#000000;stroke-width:0.8;\" x=\"100.30494\" xlink:href=\"#md7698bd6fb\" y=\"239.758125\"/>\r\n      </g>\r\n     </g>\r\n     <g id=\"text_2\">\r\n      <!-- 1975 -->\r\n      <g transform=\"translate(87.57994 254.356562)scale(0.1 -0.1)\">\r\n       <defs>\r\n        <path d=\"M 691 4666 \r\nL 3169 4666 \r\nL 3169 4134 \r\nL 1269 4134 \r\nL 1269 2991 \r\nQ 1406 3038 1543 3061 \r\nQ 1681 3084 1819 3084 \r\nQ 2600 3084 3056 2656 \r\nQ 3513 2228 3513 1497 \r\nQ 3513 744 3044 326 \r\nQ 2575 -91 1722 -91 \r\nQ 1428 -91 1123 -41 \r\nQ 819 9 494 109 \r\nL 494 744 \r\nQ 775 591 1075 516 \r\nQ 1375 441 1709 441 \r\nQ 2250 441 2565 725 \r\nQ 2881 1009 2881 1497 \r\nQ 2881 1984 2565 2268 \r\nQ 2250 2553 1709 2553 \r\nQ 1456 2553 1204 2497 \r\nQ 953 2441 691 2322 \r\nL 691 4666 \r\nz\r\n\" id=\"DejaVuSans-35\" transform=\"scale(0.015625)\"/>\r\n       </defs>\r\n       <use xlink:href=\"#DejaVuSans-31\"/>\r\n       <use x=\"63.623047\" xlink:href=\"#DejaVuSans-39\"/>\r\n       <use x=\"127.246094\" xlink:href=\"#DejaVuSans-37\"/>\r\n       <use x=\"190.869141\" xlink:href=\"#DejaVuSans-35\"/>\r\n      </g>\r\n     </g>\r\n    </g>\r\n    <g id=\"xtick_3\">\r\n     <g id=\"line2d_3\">\r\n      <g>\r\n       <use style=\"stroke:#000000;stroke-width:0.8;\" x=\"138.426073\" xlink:href=\"#md7698bd6fb\" y=\"239.758125\"/>\r\n      </g>\r\n     </g>\r\n     <g id=\"text_3\">\r\n      <!-- 1980 -->\r\n      <g transform=\"translate(125.701073 254.356562)scale(0.1 -0.1)\">\r\n       <defs>\r\n        <path d=\"M 2034 2216 \r\nQ 1584 2216 1326 1975 \r\nQ 1069 1734 1069 1313 \r\nQ 1069 891 1326 650 \r\nQ 1584 409 2034 409 \r\nQ 2484 409 2743 651 \r\nQ 3003 894 3003 1313 \r\nQ 3003 1734 2745 1975 \r\nQ 2488 2216 2034 2216 \r\nz\r\nM 1403 2484 \r\nQ 997 2584 770 2862 \r\nQ 544 3141 544 3541 \r\nQ 544 4100 942 4425 \r\nQ 1341 4750 2034 4750 \r\nQ 2731 4750 3128 4425 \r\nQ 3525 4100 3525 3541 \r\nQ 3525 3141 3298 2862 \r\nQ 3072 2584 2669 2484 \r\nQ 3125 2378 3379 2068 \r\nQ 3634 1759 3634 1313 \r\nQ 3634 634 3220 271 \r\nQ 2806 -91 2034 -91 \r\nQ 1263 -91 848 271 \r\nQ 434 634 434 1313 \r\nQ 434 1759 690 2068 \r\nQ 947 2378 1403 2484 \r\nz\r\nM 1172 3481 \r\nQ 1172 3119 1398 2916 \r\nQ 1625 2713 2034 2713 \r\nQ 2441 2713 2670 2916 \r\nQ 2900 3119 2900 3481 \r\nQ 2900 3844 2670 4047 \r\nQ 2441 4250 2034 4250 \r\nQ 1625 4250 1398 4047 \r\nQ 1172 3844 1172 3481 \r\nz\r\n\" id=\"DejaVuSans-38\" transform=\"scale(0.015625)\"/>\r\n       </defs>\r\n       <use xlink:href=\"#DejaVuSans-31\"/>\r\n       <use x=\"63.623047\" xlink:href=\"#DejaVuSans-39\"/>\r\n       <use x=\"127.246094\" xlink:href=\"#DejaVuSans-38\"/>\r\n       <use x=\"190.869141\" xlink:href=\"#DejaVuSans-30\"/>\r\n      </g>\r\n     </g>\r\n    </g>\r\n    <g id=\"xtick_4\">\r\n     <g id=\"line2d_4\">\r\n      <g>\r\n       <use style=\"stroke:#000000;stroke-width:0.8;\" x=\"176.568083\" xlink:href=\"#md7698bd6fb\" y=\"239.758125\"/>\r\n      </g>\r\n     </g>\r\n     <g id=\"text_4\">\r\n      <!-- 1985 -->\r\n      <g transform=\"translate(163.843083 254.356562)scale(0.1 -0.1)\">\r\n       <use xlink:href=\"#DejaVuSans-31\"/>\r\n       <use x=\"63.623047\" xlink:href=\"#DejaVuSans-39\"/>\r\n       <use x=\"127.246094\" xlink:href=\"#DejaVuSans-38\"/>\r\n       <use x=\"190.869141\" xlink:href=\"#DejaVuSans-35\"/>\r\n      </g>\r\n     </g>\r\n    </g>\r\n    <g id=\"xtick_5\">\r\n     <g id=\"line2d_5\">\r\n      <g>\r\n       <use style=\"stroke:#000000;stroke-width:0.8;\" x=\"214.689216\" xlink:href=\"#md7698bd6fb\" y=\"239.758125\"/>\r\n      </g>\r\n     </g>\r\n     <g id=\"text_5\">\r\n      <!-- 1990 -->\r\n      <g transform=\"translate(201.964216 254.356562)scale(0.1 -0.1)\">\r\n       <use xlink:href=\"#DejaVuSans-31\"/>\r\n       <use x=\"63.623047\" xlink:href=\"#DejaVuSans-39\"/>\r\n       <use x=\"127.246094\" xlink:href=\"#DejaVuSans-39\"/>\r\n       <use x=\"190.869141\" xlink:href=\"#DejaVuSans-30\"/>\r\n      </g>\r\n     </g>\r\n    </g>\r\n    <g id=\"xtick_6\">\r\n     <g id=\"line2d_6\">\r\n      <g>\r\n       <use style=\"stroke:#000000;stroke-width:0.8;\" x=\"252.810349\" xlink:href=\"#md7698bd6fb\" y=\"239.758125\"/>\r\n      </g>\r\n     </g>\r\n     <g id=\"text_6\">\r\n      <!-- 1995 -->\r\n      <g transform=\"translate(240.085349 254.356562)scale(0.1 -0.1)\">\r\n       <use xlink:href=\"#DejaVuSans-31\"/>\r\n       <use x=\"63.623047\" xlink:href=\"#DejaVuSans-39\"/>\r\n       <use x=\"127.246094\" xlink:href=\"#DejaVuSans-39\"/>\r\n       <use x=\"190.869141\" xlink:href=\"#DejaVuSans-35\"/>\r\n      </g>\r\n     </g>\r\n    </g>\r\n    <g id=\"xtick_7\">\r\n     <g id=\"line2d_7\">\r\n      <g>\r\n       <use style=\"stroke:#000000;stroke-width:0.8;\" x=\"290.931482\" xlink:href=\"#md7698bd6fb\" y=\"239.758125\"/>\r\n      </g>\r\n     </g>\r\n     <g id=\"text_7\">\r\n      <!-- 2000 -->\r\n      <g transform=\"translate(278.206482 254.356562)scale(0.1 -0.1)\">\r\n       <defs>\r\n        <path d=\"M 1228 531 \r\nL 3431 531 \r\nL 3431 0 \r\nL 469 0 \r\nL 469 531 \r\nQ 828 903 1448 1529 \r\nQ 2069 2156 2228 2338 \r\nQ 2531 2678 2651 2914 \r\nQ 2772 3150 2772 3378 \r\nQ 2772 3750 2511 3984 \r\nQ 2250 4219 1831 4219 \r\nQ 1534 4219 1204 4116 \r\nQ 875 4013 500 3803 \r\nL 500 4441 \r\nQ 881 4594 1212 4672 \r\nQ 1544 4750 1819 4750 \r\nQ 2544 4750 2975 4387 \r\nQ 3406 4025 3406 3419 \r\nQ 3406 3131 3298 2873 \r\nQ 3191 2616 2906 2266 \r\nQ 2828 2175 2409 1742 \r\nQ 1991 1309 1228 531 \r\nz\r\n\" id=\"DejaVuSans-32\" transform=\"scale(0.015625)\"/>\r\n       </defs>\r\n       <use xlink:href=\"#DejaVuSans-32\"/>\r\n       <use x=\"63.623047\" xlink:href=\"#DejaVuSans-30\"/>\r\n       <use x=\"127.246094\" xlink:href=\"#DejaVuSans-30\"/>\r\n       <use x=\"190.869141\" xlink:href=\"#DejaVuSans-30\"/>\r\n      </g>\r\n     </g>\r\n    </g>\r\n    <g id=\"xtick_8\">\r\n     <g id=\"line2d_8\">\r\n      <g>\r\n       <use style=\"stroke:#000000;stroke-width:0.8;\" x=\"329.073492\" xlink:href=\"#md7698bd6fb\" y=\"239.758125\"/>\r\n      </g>\r\n     </g>\r\n     <g id=\"text_8\">\r\n      <!-- 2005 -->\r\n      <g transform=\"translate(316.348492 254.356562)scale(0.1 -0.1)\">\r\n       <use xlink:href=\"#DejaVuSans-32\"/>\r\n       <use x=\"63.623047\" xlink:href=\"#DejaVuSans-30\"/>\r\n       <use x=\"127.246094\" xlink:href=\"#DejaVuSans-30\"/>\r\n       <use x=\"190.869141\" xlink:href=\"#DejaVuSans-35\"/>\r\n      </g>\r\n     </g>\r\n    </g>\r\n    <g id=\"xtick_9\">\r\n     <g id=\"line2d_9\">\r\n      <g>\r\n       <use style=\"stroke:#000000;stroke-width:0.8;\" x=\"367.194626\" xlink:href=\"#md7698bd6fb\" y=\"239.758125\"/>\r\n      </g>\r\n     </g>\r\n     <g id=\"text_9\">\r\n      <!-- 2010 -->\r\n      <g transform=\"translate(354.469626 254.356562)scale(0.1 -0.1)\">\r\n       <use xlink:href=\"#DejaVuSans-32\"/>\r\n       <use x=\"63.623047\" xlink:href=\"#DejaVuSans-30\"/>\r\n       <use x=\"127.246094\" xlink:href=\"#DejaVuSans-31\"/>\r\n       <use x=\"190.869141\" xlink:href=\"#DejaVuSans-30\"/>\r\n      </g>\r\n     </g>\r\n    </g>\r\n    <g id=\"text_10\">\r\n     <!-- Date -->\r\n     <g transform=\"translate(202.414844 268.034687)scale(0.1 -0.1)\">\r\n      <defs>\r\n       <path d=\"M 1259 4147 \r\nL 1259 519 \r\nL 2022 519 \r\nQ 2988 519 3436 956 \r\nQ 3884 1394 3884 2338 \r\nQ 3884 3275 3436 3711 \r\nQ 2988 4147 2022 4147 \r\nL 1259 4147 \r\nz\r\nM 628 4666 \r\nL 1925 4666 \r\nQ 3281 4666 3915 4102 \r\nQ 4550 3538 4550 2338 \r\nQ 4550 1131 3912 565 \r\nQ 3275 0 1925 0 \r\nL 628 0 \r\nL 628 4666 \r\nz\r\n\" id=\"DejaVuSans-44\" transform=\"scale(0.015625)\"/>\r\n       <path d=\"M 2194 1759 \r\nQ 1497 1759 1228 1600 \r\nQ 959 1441 959 1056 \r\nQ 959 750 1161 570 \r\nQ 1363 391 1709 391 \r\nQ 2188 391 2477 730 \r\nQ 2766 1069 2766 1631 \r\nL 2766 1759 \r\nL 2194 1759 \r\nz\r\nM 3341 1997 \r\nL 3341 0 \r\nL 2766 0 \r\nL 2766 531 \r\nQ 2569 213 2275 61 \r\nQ 1981 -91 1556 -91 \r\nQ 1019 -91 701 211 \r\nQ 384 513 384 1019 \r\nQ 384 1609 779 1909 \r\nQ 1175 2209 1959 2209 \r\nL 2766 2209 \r\nL 2766 2266 \r\nQ 2766 2663 2505 2880 \r\nQ 2244 3097 1772 3097 \r\nQ 1472 3097 1187 3025 \r\nQ 903 2953 641 2809 \r\nL 641 3341 \r\nQ 956 3463 1253 3523 \r\nQ 1550 3584 1831 3584 \r\nQ 2591 3584 2966 3190 \r\nQ 3341 2797 3341 1997 \r\nz\r\n\" id=\"DejaVuSans-61\" transform=\"scale(0.015625)\"/>\r\n       <path d=\"M 1172 4494 \r\nL 1172 3500 \r\nL 2356 3500 \r\nL 2356 3053 \r\nL 1172 3053 \r\nL 1172 1153 \r\nQ 1172 725 1289 603 \r\nQ 1406 481 1766 481 \r\nL 2356 481 \r\nL 2356 0 \r\nL 1766 0 \r\nQ 1100 0 847 248 \r\nQ 594 497 594 1153 \r\nL 594 3053 \r\nL 172 3053 \r\nL 172 3500 \r\nL 594 3500 \r\nL 594 4494 \r\nL 1172 4494 \r\nz\r\n\" id=\"DejaVuSans-74\" transform=\"scale(0.015625)\"/>\r\n       <path d=\"M 3597 1894 \r\nL 3597 1613 \r\nL 953 1613 \r\nQ 991 1019 1311 708 \r\nQ 1631 397 2203 397 \r\nQ 2534 397 2845 478 \r\nQ 3156 559 3463 722 \r\nL 3463 178 \r\nQ 3153 47 2828 -22 \r\nQ 2503 -91 2169 -91 \r\nQ 1331 -91 842 396 \r\nQ 353 884 353 1716 \r\nQ 353 2575 817 3079 \r\nQ 1281 3584 2069 3584 \r\nQ 2775 3584 3186 3129 \r\nQ 3597 2675 3597 1894 \r\nz\r\nM 3022 2063 \r\nQ 3016 2534 2758 2815 \r\nQ 2500 3097 2075 3097 \r\nQ 1594 3097 1305 2825 \r\nQ 1016 2553 972 2059 \r\nL 3022 2063 \r\nz\r\n\" id=\"DejaVuSans-65\" transform=\"scale(0.015625)\"/>\r\n      </defs>\r\n      <use xlink:href=\"#DejaVuSans-44\"/>\r\n      <use x=\"77.001953\" xlink:href=\"#DejaVuSans-61\"/>\r\n      <use x=\"138.28125\" xlink:href=\"#DejaVuSans-74\"/>\r\n      <use x=\"177.490234\" xlink:href=\"#DejaVuSans-65\"/>\r\n     </g>\r\n    </g>\r\n   </g>\r\n   <g id=\"matplotlib.axis_2\">\r\n    <g id=\"ytick_1\">\r\n     <g id=\"line2d_10\">\r\n      <defs>\r\n       <path d=\"M 0 0 \r\nL -3.5 0 \r\n\" id=\"mdab26386dc\" style=\"stroke:#000000;stroke-width:0.8;\"/>\r\n      </defs>\r\n      <g>\r\n       <use style=\"stroke:#000000;stroke-width:0.8;\" x=\"46.965625\" xlink:href=\"#mdab26386dc\" y=\"213.00776\"/>\r\n      </g>\r\n     </g>\r\n     <g id=\"text_11\">\r\n      <!-- 40 -->\r\n      <g transform=\"translate(27.240625 216.806979)scale(0.1 -0.1)\">\r\n       <defs>\r\n        <path d=\"M 2419 4116 \r\nL 825 1625 \r\nL 2419 1625 \r\nL 2419 4116 \r\nz\r\nM 2253 4666 \r\nL 3047 4666 \r\nL 3047 1625 \r\nL 3713 1625 \r\nL 3713 1100 \r\nL 3047 1100 \r\nL 3047 0 \r\nL 2419 0 \r\nL 2419 1100 \r\nL 313 1100 \r\nL 313 1709 \r\nL 2253 4666 \r\nz\r\n\" id=\"DejaVuSans-34\" transform=\"scale(0.015625)\"/>\r\n       </defs>\r\n       <use xlink:href=\"#DejaVuSans-34\"/>\r\n       <use x=\"63.623047\" xlink:href=\"#DejaVuSans-30\"/>\r\n      </g>\r\n     </g>\r\n    </g>\r\n    <g id=\"ytick_2\">\r\n     <g id=\"line2d_11\">\r\n      <g>\r\n       <use style=\"stroke:#000000;stroke-width:0.8;\" x=\"46.965625\" xlink:href=\"#mdab26386dc\" y=\"179.080433\"/>\r\n      </g>\r\n     </g>\r\n     <g id=\"text_12\">\r\n      <!-- 60 -->\r\n      <g transform=\"translate(27.240625 182.879651)scale(0.1 -0.1)\">\r\n       <defs>\r\n        <path d=\"M 2113 2584 \r\nQ 1688 2584 1439 2293 \r\nQ 1191 2003 1191 1497 \r\nQ 1191 994 1439 701 \r\nQ 1688 409 2113 409 \r\nQ 2538 409 2786 701 \r\nQ 3034 994 3034 1497 \r\nQ 3034 2003 2786 2293 \r\nQ 2538 2584 2113 2584 \r\nz\r\nM 3366 4563 \r\nL 3366 3988 \r\nQ 3128 4100 2886 4159 \r\nQ 2644 4219 2406 4219 \r\nQ 1781 4219 1451 3797 \r\nQ 1122 3375 1075 2522 \r\nQ 1259 2794 1537 2939 \r\nQ 1816 3084 2150 3084 \r\nQ 2853 3084 3261 2657 \r\nQ 3669 2231 3669 1497 \r\nQ 3669 778 3244 343 \r\nQ 2819 -91 2113 -91 \r\nQ 1303 -91 875 529 \r\nQ 447 1150 447 2328 \r\nQ 447 3434 972 4092 \r\nQ 1497 4750 2381 4750 \r\nQ 2619 4750 2861 4703 \r\nQ 3103 4656 3366 4563 \r\nz\r\n\" id=\"DejaVuSans-36\" transform=\"scale(0.015625)\"/>\r\n       </defs>\r\n       <use xlink:href=\"#DejaVuSans-36\"/>\r\n       <use x=\"63.623047\" xlink:href=\"#DejaVuSans-30\"/>\r\n      </g>\r\n     </g>\r\n    </g>\r\n    <g id=\"ytick_3\">\r\n     <g id=\"line2d_12\">\r\n      <g>\r\n       <use style=\"stroke:#000000;stroke-width:0.8;\" x=\"46.965625\" xlink:href=\"#mdab26386dc\" y=\"145.153105\"/>\r\n      </g>\r\n     </g>\r\n     <g id=\"text_13\">\r\n      <!-- 80 -->\r\n      <g transform=\"translate(27.240625 148.952324)scale(0.1 -0.1)\">\r\n       <use xlink:href=\"#DejaVuSans-38\"/>\r\n       <use x=\"63.623047\" xlink:href=\"#DejaVuSans-30\"/>\r\n      </g>\r\n     </g>\r\n    </g>\r\n    <g id=\"ytick_4\">\r\n     <g id=\"line2d_13\">\r\n      <g>\r\n       <use style=\"stroke:#000000;stroke-width:0.8;\" x=\"46.965625\" xlink:href=\"#mdab26386dc\" y=\"111.225777\"/>\r\n      </g>\r\n     </g>\r\n     <g id=\"text_14\">\r\n      <!-- 100 -->\r\n      <g transform=\"translate(20.878125 115.024996)scale(0.1 -0.1)\">\r\n       <use xlink:href=\"#DejaVuSans-31\"/>\r\n       <use x=\"63.623047\" xlink:href=\"#DejaVuSans-30\"/>\r\n       <use x=\"127.246094\" xlink:href=\"#DejaVuSans-30\"/>\r\n      </g>\r\n     </g>\r\n    </g>\r\n    <g id=\"ytick_5\">\r\n     <g id=\"line2d_14\">\r\n      <g>\r\n       <use style=\"stroke:#000000;stroke-width:0.8;\" x=\"46.965625\" xlink:href=\"#mdab26386dc\" y=\"77.29845\"/>\r\n      </g>\r\n     </g>\r\n     <g id=\"text_15\">\r\n      <!-- 120 -->\r\n      <g transform=\"translate(20.878125 81.097669)scale(0.1 -0.1)\">\r\n       <use xlink:href=\"#DejaVuSans-31\"/>\r\n       <use x=\"63.623047\" xlink:href=\"#DejaVuSans-32\"/>\r\n       <use x=\"127.246094\" xlink:href=\"#DejaVuSans-30\"/>\r\n      </g>\r\n     </g>\r\n    </g>\r\n    <g id=\"ytick_6\">\r\n     <g id=\"line2d_15\">\r\n      <g>\r\n       <use style=\"stroke:#000000;stroke-width:0.8;\" x=\"46.965625\" xlink:href=\"#mdab26386dc\" y=\"43.371122\"/>\r\n      </g>\r\n     </g>\r\n     <g id=\"text_16\">\r\n      <!-- 140 -->\r\n      <g transform=\"translate(20.878125 47.170341)scale(0.1 -0.1)\">\r\n       <use xlink:href=\"#DejaVuSans-31\"/>\r\n       <use x=\"63.623047\" xlink:href=\"#DejaVuSans-34\"/>\r\n       <use x=\"127.246094\" xlink:href=\"#DejaVuSans-30\"/>\r\n      </g>\r\n     </g>\r\n    </g>\r\n    <g id=\"text_17\">\r\n     <!-- Stock Price -->\r\n     <g transform=\"translate(14.798438 158.663125)rotate(-90)scale(0.1 -0.1)\">\r\n      <defs>\r\n       <path d=\"M 3425 4513 \r\nL 3425 3897 \r\nQ 3066 4069 2747 4153 \r\nQ 2428 4238 2131 4238 \r\nQ 1616 4238 1336 4038 \r\nQ 1056 3838 1056 3469 \r\nQ 1056 3159 1242 3001 \r\nQ 1428 2844 1947 2747 \r\nL 2328 2669 \r\nQ 3034 2534 3370 2195 \r\nQ 3706 1856 3706 1288 \r\nQ 3706 609 3251 259 \r\nQ 2797 -91 1919 -91 \r\nQ 1588 -91 1214 -16 \r\nQ 841 59 441 206 \r\nL 441 856 \r\nQ 825 641 1194 531 \r\nQ 1563 422 1919 422 \r\nQ 2459 422 2753 634 \r\nQ 3047 847 3047 1241 \r\nQ 3047 1584 2836 1778 \r\nQ 2625 1972 2144 2069 \r\nL 1759 2144 \r\nQ 1053 2284 737 2584 \r\nQ 422 2884 422 3419 \r\nQ 422 4038 858 4394 \r\nQ 1294 4750 2059 4750 \r\nQ 2388 4750 2728 4690 \r\nQ 3069 4631 3425 4513 \r\nz\r\n\" id=\"DejaVuSans-53\" transform=\"scale(0.015625)\"/>\r\n       <path d=\"M 1959 3097 \r\nQ 1497 3097 1228 2736 \r\nQ 959 2375 959 1747 \r\nQ 959 1119 1226 758 \r\nQ 1494 397 1959 397 \r\nQ 2419 397 2687 759 \r\nQ 2956 1122 2956 1747 \r\nQ 2956 2369 2687 2733 \r\nQ 2419 3097 1959 3097 \r\nz\r\nM 1959 3584 \r\nQ 2709 3584 3137 3096 \r\nQ 3566 2609 3566 1747 \r\nQ 3566 888 3137 398 \r\nQ 2709 -91 1959 -91 \r\nQ 1206 -91 779 398 \r\nQ 353 888 353 1747 \r\nQ 353 2609 779 3096 \r\nQ 1206 3584 1959 3584 \r\nz\r\n\" id=\"DejaVuSans-6f\" transform=\"scale(0.015625)\"/>\r\n       <path d=\"M 3122 3366 \r\nL 3122 2828 \r\nQ 2878 2963 2633 3030 \r\nQ 2388 3097 2138 3097 \r\nQ 1578 3097 1268 2742 \r\nQ 959 2388 959 1747 \r\nQ 959 1106 1268 751 \r\nQ 1578 397 2138 397 \r\nQ 2388 397 2633 464 \r\nQ 2878 531 3122 666 \r\nL 3122 134 \r\nQ 2881 22 2623 -34 \r\nQ 2366 -91 2075 -91 \r\nQ 1284 -91 818 406 \r\nQ 353 903 353 1747 \r\nQ 353 2603 823 3093 \r\nQ 1294 3584 2113 3584 \r\nQ 2378 3584 2631 3529 \r\nQ 2884 3475 3122 3366 \r\nz\r\n\" id=\"DejaVuSans-63\" transform=\"scale(0.015625)\"/>\r\n       <path d=\"M 581 4863 \r\nL 1159 4863 \r\nL 1159 1991 \r\nL 2875 3500 \r\nL 3609 3500 \r\nL 1753 1863 \r\nL 3688 0 \r\nL 2938 0 \r\nL 1159 1709 \r\nL 1159 0 \r\nL 581 0 \r\nL 581 4863 \r\nz\r\n\" id=\"DejaVuSans-6b\" transform=\"scale(0.015625)\"/>\r\n       <path id=\"DejaVuSans-20\" transform=\"scale(0.015625)\"/>\r\n       <path d=\"M 1259 4147 \r\nL 1259 2394 \r\nL 2053 2394 \r\nQ 2494 2394 2734 2622 \r\nQ 2975 2850 2975 3272 \r\nQ 2975 3691 2734 3919 \r\nQ 2494 4147 2053 4147 \r\nL 1259 4147 \r\nz\r\nM 628 4666 \r\nL 2053 4666 \r\nQ 2838 4666 3239 4311 \r\nQ 3641 3956 3641 3272 \r\nQ 3641 2581 3239 2228 \r\nQ 2838 1875 2053 1875 \r\nL 1259 1875 \r\nL 1259 0 \r\nL 628 0 \r\nL 628 4666 \r\nz\r\n\" id=\"DejaVuSans-50\" transform=\"scale(0.015625)\"/>\r\n       <path d=\"M 2631 2963 \r\nQ 2534 3019 2420 3045 \r\nQ 2306 3072 2169 3072 \r\nQ 1681 3072 1420 2755 \r\nQ 1159 2438 1159 1844 \r\nL 1159 0 \r\nL 581 0 \r\nL 581 3500 \r\nL 1159 3500 \r\nL 1159 2956 \r\nQ 1341 3275 1631 3429 \r\nQ 1922 3584 2338 3584 \r\nQ 2397 3584 2469 3576 \r\nQ 2541 3569 2628 3553 \r\nL 2631 2963 \r\nz\r\n\" id=\"DejaVuSans-72\" transform=\"scale(0.015625)\"/>\r\n       <path d=\"M 603 3500 \r\nL 1178 3500 \r\nL 1178 0 \r\nL 603 0 \r\nL 603 3500 \r\nz\r\nM 603 4863 \r\nL 1178 4863 \r\nL 1178 4134 \r\nL 603 4134 \r\nL 603 4863 \r\nz\r\n\" id=\"DejaVuSans-69\" transform=\"scale(0.015625)\"/>\r\n      </defs>\r\n      <use xlink:href=\"#DejaVuSans-53\"/>\r\n      <use x=\"63.476562\" xlink:href=\"#DejaVuSans-74\"/>\r\n      <use x=\"102.685547\" xlink:href=\"#DejaVuSans-6f\"/>\r\n      <use x=\"163.867188\" xlink:href=\"#DejaVuSans-63\"/>\r\n      <use x=\"218.847656\" xlink:href=\"#DejaVuSans-6b\"/>\r\n      <use x=\"276.757812\" xlink:href=\"#DejaVuSans-20\"/>\r\n      <use x=\"308.544922\" xlink:href=\"#DejaVuSans-50\"/>\r\n      <use x=\"367.097656\" xlink:href=\"#DejaVuSans-72\"/>\r\n      <use x=\"408.210938\" xlink:href=\"#DejaVuSans-69\"/>\r\n      <use x=\"435.994141\" xlink:href=\"#DejaVuSans-63\"/>\r\n      <use x=\"490.974609\" xlink:href=\"#DejaVuSans-65\"/>\r\n     </g>\r\n    </g>\r\n   </g>\r\n   <g id=\"line2d_16\">\r\n    <path clip-path=\"url(#p1800f2d27e)\" d=\"M 62.183807 139.439581 \r\nL 62.830989 142.454097 \r\nL 63.415541 142.883205 \r\nL 64.062724 150.571453 \r\nL 64.689029 163.340576 \r\nL 65.336212 158.697819 \r\nL 65.962517 159.219067 \r\nL 66.6097 162.381725 \r\nL 67.256882 157.463878 \r\nL 67.883188 148.481067 \r\nL 68.53037 143.438927 \r\nL 69.156676 137.406879 \r\nL 69.803858 136.428693 \r\nL 70.451041 134.006192 \r\nL 71.682775 114.872965 \r\nL 72.30908 112.456491 \r\nL 72.956263 107.594011 \r\nL 73.582568 107.936442 \r\nL 74.229751 105.502854 \r\nL 74.876933 98.262307 \r\nL 75.503239 95.100603 \r\nL 76.150421 96.979531 \r\nL 76.776727 84.171818 \r\nL 77.423909 82.146826 \r\nL 78.071092 70.535037 \r\nL 78.67652 64.509389 \r\nL 79.323703 62.445066 \r\nL 79.950009 61.80754 \r\nL 80.597191 58.493458 \r\nL 81.870679 37.221425 \r\nL 82.517861 48.978461 \r\nL 83.144167 44.516941 \r\nL 84.417655 32.746512 \r\nL 85.064837 32.201761 \r\nL 85.71202 36.974928 \r\nL 86.296572 36.054386 \r\nL 86.943754 42.267636 \r\nL 87.57006 50.00083 \r\nL 88.217242 41.068103 \r\nL 88.843548 39.115666 \r\nL 89.49073 39.238626 \r\nL 90.137913 37.841861 \r\nL 90.764218 38.004704 \r\nL 91.411401 45.842163 \r\nL 92.037706 72.231403 \r\nL 92.684889 76.375472 \r\nL 93.332071 88.697139 \r\nL 93.916623 85.015301 \r\nL 94.563805 96.194356 \r\nL 95.190111 104.895246 \r\nL 95.837293 89.28243 \r\nL 96.463599 113.93765 \r\nL 97.110781 146.910386 \r\nL 97.757964 169.135485 \r\nL 98.38427 185.706587 \r\nL 99.031452 184.200914 \r\nL 99.657758 196.111951 \r\nL 100.30494 180.36196 \r\nL 100.952122 158.348157 \r\nL 101.536674 149.84271 \r\nL 102.183857 149.289926 \r\nL 102.810162 130.686331 \r\nL 103.457345 128.010111 \r\nL 104.08365 133.502923 \r\nL 104.730833 151.032226 \r\nL 105.378015 157.422681 \r\nL 106.651503 134.944551 \r\nL 107.277809 138.66913 \r\nL 107.924991 129.929428 \r\nL 108.572174 129.766169 \r\nL 109.177602 134.036742 \r\nL 109.824785 135.9071 \r\nL 110.45109 141.58395 \r\nL 111.098273 144.230899 \r\nL 111.724578 135.876404 \r\nL 112.371761 133.908509 \r\nL 113.018943 133.291465 \r\nL 113.645249 140.401664 \r\nL 114.292431 146.32275 \r\nL 114.918737 149.926834 \r\nL 115.565919 151.861022 \r\nL 116.213102 152.043031 \r\nL 116.797654 149.433111 \r\nL 117.444836 150.891064 \r\nL 118.071142 155.305454 \r\nL 118.718324 217.66043 \r\nL 119.34463 215.090719 \r\nL 119.991812 214.377392 \r\nL 120.638995 213.448815 \r\nL 121.2653 215.345515 \r\nL 121.912483 216.385953 \r\nL 123.185971 219.768992 \r\nL 123.833153 219.264674 \r\nL 124.417705 217.197785 \r\nL 125.691193 208.782266 \r\nL 126.338375 209.061395 \r\nL 126.964681 210.564992 \r\nL 127.611863 204.373993 \r\nL 128.259046 205.104389 \r\nL 128.885351 207.133706 \r\nL 129.532534 210.458364 \r\nL 130.806022 204.62771 \r\nL 131.453204 208.238292 \r\nL 132.037756 210.603546 \r\nL 132.684939 212.612507 \r\nL 133.311244 215.904691 \r\nL 133.958427 214.599921 \r\nL 134.584732 216.425534 \r\nL 135.231915 213.095529 \r\nL 135.879097 215.582666 \r\nL 136.505403 221.044111 \r\nL 137.152585 223.847541 \r\nL 137.778891 222.174924 \r\nL 138.426073 222.758011 \r\nL 139.073256 223.615987 \r\nL 139.678684 229.874489 \r\nL 140.325867 227.80169 \r\nL 140.952172 222.909693 \r\nL 141.599355 224.000214 \r\nL 142.22566 222.440328 \r\nL 142.872843 218.708359 \r\nL 144.146331 226.678998 \r\nL 144.793513 228.40794 \r\nL 145.419819 227.718341 \r\nL 146.067001 222.596269 \r\nL 146.714184 223.449342 \r\nL 147.298736 218.58495 \r\nL 147.945918 219.327129 \r\nL 148.572224 220.658372 \r\nL 149.219406 218.217918 \r\nL 149.845712 223.608508 \r\nL 150.492894 224.22155 \r\nL 151.140076 226.580307 \r\nL 151.766382 221.621446 \r\nL 152.413564 221.113847 \r\nL 153.03987 221.379328 \r\nL 153.687052 224.066372 \r\nL 154.334235 227.273308 \r\nL 154.918787 226.876662 \r\nL 155.565969 223.100332 \r\nL 156.192275 223.606657 \r\nL 156.839457 223.741904 \r\nL 157.465763 219.415986 \r\nL 158.112945 217.900235 \r\nL 160.659921 194.325369 \r\nL 161.307104 197.032028 \r\nL 161.954286 198.418116 \r\nL 162.538838 194.354368 \r\nL 163.18602 186.923582 \r\nL 164.459508 193.399307 \r\nL 165.085814 197.842245 \r\nL 165.732996 196.243235 \r\nL 166.380179 195.606272 \r\nL 167.006485 189.929907 \r\nL 167.653667 188.56716 \r\nL 168.279973 186.772242 \r\nL 168.927155 191.789448 \r\nL 169.574337 195.214573 \r\nL 170.179766 189.454484 \r\nL 170.826949 188.535131 \r\nL 171.453254 185.85279 \r\nL 172.100437 184.054825 \r\nL 172.726742 181.882668 \r\nL 173.373925 176.513019 \r\nL 174.021107 176.039473 \r\nL 174.647413 173.733191 \r\nL 175.294595 172.537305 \r\nL 175.920901 175.831891 \r\nL 176.568083 174.384582 \r\nL 177.215266 176.386781 \r\nL 177.799817 169.187385 \r\nL 178.447 163.351885 \r\nL 179.073305 166.36154 \r\nL 180.346793 159.729519 \r\nL 180.993976 159.084899 \r\nL 181.641158 162.936382 \r\nL 182.267464 161.051008 \r\nL 183.540952 137.088902 \r\nL 184.188134 143.06349 \r\nL 184.835317 132.043764 \r\nL 185.419869 107.506494 \r\nL 186.067051 97.099672 \r\nL 186.693357 94.65874 \r\nL 187.340539 82.898074 \r\nL 187.966845 211.104745 \r\nL 188.614027 215.447296 \r\nL 189.26121 221.475859 \r\nL 189.887515 218.940617 \r\nL 190.534698 219.051289 \r\nL 191.808186 212.590939 \r\nL 193.03992 201.928174 \r\nL 193.687102 205.624527 \r\nL 194.313408 211.330054 \r\nL 194.96059 205.74577 \r\nL 195.586896 203.933742 \r\nL 196.234078 196.172535 \r\nL 196.881261 197.282444 \r\nL 197.507566 208.244055 \r\nL 198.154749 214.308873 \r\nL 198.781054 215.39501 \r\nL 199.428237 216.269873 \r\nL 200.075419 218.155384 \r\nL 200.680848 215.235163 \r\nL 201.32803 215.919573 \r\nL 201.954336 218.447442 \r\nL 202.601518 215.87539 \r\nL 203.227824 217.137564 \r\nL 203.875006 215.512482 \r\nL 204.522189 209.327453 \r\nL 205.148495 207.732868 \r\nL 205.795677 208.894476 \r\nL 206.421983 205.976725 \r\nL 207.069165 204.603476 \r\nL 208.300899 196.310888 \r\nL 208.948082 191.491897 \r\nL 209.574387 185.294531 \r\nL 210.22157 183.296674 \r\nL 210.847875 179.341673 \r\nL 211.495058 167.827623 \r\nL 212.14224 172.400142 \r\nL 212.768546 162.535463 \r\nL 213.415728 154.354681 \r\nL 214.042034 148.803685 \r\nL 215.336399 164.318474 \r\nL 216.568133 148.782481 \r\nL 217.194439 182.87798 \r\nL 217.841621 205.10754 \r\nL 218.467927 203.634124 \r\nL 219.115109 208.496163 \r\nL 219.762291 211.865838 \r\nL 221.662085 200.397821 \r\nL 222.309267 202.497999 \r\nL 222.95645 193.874533 \r\nL 223.541002 190.697149 \r\nL 224.81449 187.375664 \r\nL 225.461672 186.837068 \r\nL 226.087978 183.528768 \r\nL 226.73516 173.074524 \r\nL 227.382343 171.216078 \r\nL 228.008648 172.485993 \r\nL 228.655831 167.009938 \r\nL 229.282136 154.527549 \r\nL 229.929319 149.918352 \r\nL 230.576501 147.468199 \r\nL 231.18193 142.903106 \r\nL 231.829112 142.320981 \r\nL 232.455418 182.969352 \r\nL 233.1026 209.851748 \r\nL 233.728906 210.643642 \r\nL 234.376088 208.044677 \r\nL 235.023271 207.50911 \r\nL 235.649576 213.707897 \r\nL 236.296759 211.55143 \r\nL 237.570247 210.120545 \r\nL 238.217429 210.571242 \r\nL 238.801981 208.623759 \r\nL 239.449164 213.436698 \r\nL 240.075469 212.790625 \r\nL 240.722652 210.141672 \r\nL 241.348957 206.723934 \r\nL 241.99614 207.799915 \r\nL 242.643322 207.713481 \r\nL 243.269628 208.457459 \r\nL 243.91681 209.803243 \r\nL 244.543116 207.068165 \r\nL 245.190298 209.246673 \r\nL 245.837481 210.695345 \r\nL 246.422032 210.236045 \r\nL 247.069215 212.467601 \r\nL 247.69552 212.075566 \r\nL 248.342703 211.904351 \r\nL 248.969008 209.144286 \r\nL 249.616191 204.169691 \r\nL 250.889679 196.333286 \r\nL 251.536861 193.859015 \r\nL 252.163167 193.849321 \r\nL 252.810349 194.857448 \r\nL 253.457532 190.538048 \r\nL 254.042084 184.570022 \r\nL 255.315572 180.579404 \r\nL 255.962754 175.194982 \r\nL 256.58906 171.076976 \r\nL 257.236242 170.600076 \r\nL 257.883425 167.759731 \r\nL 258.50973 159.943107 \r\nL 259.156913 156.07205 \r\nL 259.783218 150.60353 \r\nL 260.430401 155.115402 \r\nL 261.077583 145.569563 \r\nL 261.683012 140.411357 \r\nL 262.330194 142.824236 \r\nL 262.9565 181.345082 \r\nL 263.603682 200.991549 \r\nL 264.229988 200.695224 \r\nL 264.87717 195.673209 \r\nL 265.524353 193.459682 \r\nL 266.150658 196.4645 \r\nL 266.797841 193.338392 \r\nL 267.424146 195.180565 \r\nL 268.718511 178.609021 \r\nL 269.303063 179.117753 \r\nL 269.950245 182.344396 \r\nL 270.576551 168.218033 \r\nL 271.223733 162.833282 \r\nL 271.850039 162.564764 \r\nL 272.497222 174.858904 \r\nL 273.144404 180.257388 \r\nL 273.77071 179.425606 \r\nL 274.417892 180.100038 \r\nL 275.044198 170.498361 \r\nL 275.69138 170.249997 \r\nL 276.338562 165.338079 \r\nL 276.923114 157.236631 \r\nL 277.570297 150.723649 \r\nL 278.196602 149.533971 \r\nL 279.47009 136.104532 \r\nL 280.117273 146.968217 \r\nL 280.764455 177.426071 \r\nL 281.390761 170.518409 \r\nL 282.037943 159.367807 \r\nL 282.664249 166.711608 \r\nL 283.311431 170.298612 \r\nL 283.958614 172.537815 \r\nL 284.543166 170.210649 \r\nL 285.190348 172.142294 \r\nL 285.816654 165.866587 \r\nL 286.463836 170.689588 \r\nL 287.090142 173.928325 \r\nL 287.737324 179.166022 \r\nL 288.384506 188.777186 \r\nL 289.010812 192.178804 \r\nL 289.657994 178.245982 \r\nL 290.2843 176.616075 \r\nL 290.931482 177.138941 \r\nL 292.184094 200.224533 \r\nL 292.831276 199.070771 \r\nL 293.457582 195.69557 \r\nL 294.73107 181.095716 \r\nL 295.378252 179.171151 \r\nL 296.025435 190.528361 \r\nL 296.65174 183.406167 \r\nL 297.298923 178.654725 \r\nL 298.572411 182.574947 \r\nL 299.219593 183.616873 \r\nL 299.804145 198.761367 \r\nL 300.451327 203.173076 \r\nL 301.077633 200.739176 \r\nL 301.724815 204.017826 \r\nL 302.351121 203.82961 \r\nL 302.998303 201.539586 \r\nL 303.645486 198.5321 \r\nL 304.271791 201.905411 \r\nL 304.918974 198.196866 \r\nL 306.192462 204.220582 \r\nL 306.839644 202.752779 \r\nL 307.424196 197.853271 \r\nL 308.071379 190.26874 \r\nL 308.697684 185.451059 \r\nL 309.344867 187.822657 \r\nL 309.971172 194.056263 \r\nL 310.618355 194.460307 \r\nL 311.265537 197.436813 \r\nL 311.891843 197.755214 \r\nL 312.539025 203.469092 \r\nL 313.165331 204.685871 \r\nL 313.812513 206.379007 \r\nL 314.459696 212.665808 \r\nL 315.044247 213.586948 \r\nL 315.69143 211.286352 \r\nL 316.317735 207.169029 \r\nL 316.964918 201.689765 \r\nL 317.591223 204.676288 \r\nL 318.238406 205.59787 \r\nL 318.885588 206.790981 \r\nL 319.511894 204.809885 \r\nL 320.159076 201.923345 \r\nL 320.785382 198.043495 \r\nL 321.432564 196.370647 \r\nL 322.079747 195.217341 \r\nL 322.685176 197.687359 \r\nL 323.332358 194.258873 \r\nL 323.958664 195.759107 \r\nL 324.605846 193.753194 \r\nL 325.232152 198.101546 \r\nL 325.879334 206.027212 \r\nL 327.152822 213.226672 \r\nL 327.800004 212.159577 \r\nL 328.42631 211.480259 \r\nL 329.073492 210.979754 \r\nL 329.720675 208.573994 \r\nL 330.952409 209.319375 \r\nL 331.578715 205.563135 \r\nL 332.225897 206.836842 \r\nL 332.852203 207.726972 \r\nL 333.499385 206.441347 \r\nL 334.146568 207.331395 \r\nL 334.772873 209.061689 \r\nL 335.420056 208.715953 \r\nL 336.046361 210.387278 \r\nL 336.693544 211.049305 \r\nL 337.340726 210.457854 \r\nL 337.925278 209.058914 \r\nL 338.57246 210.202506 \r\nL 339.198766 207.388161 \r\nL 339.845949 207.628737 \r\nL 341.119437 205.774601 \r\nL 341.766619 205.274026 \r\nL 342.392925 204.14039 \r\nL 343.040107 201.639682 \r\nL 343.666413 198.730292 \r\nL 344.313595 198.977114 \r\nL 344.960777 199.732354 \r\nL 345.545329 200.606551 \r\nL 346.192512 194.995742 \r\nL 346.818817 191.823228 \r\nL 347.466 192.85412 \r\nL 348.739488 189.219541 \r\nL 349.38667 186.370344 \r\nL 350.660158 176.166721 \r\nL 351.286464 174.180478 \r\nL 351.933646 176.670784 \r\nL 352.580829 180.932865 \r\nL 353.83344 178.437355 \r\nL 355.106928 187.393436 \r\nL 355.733233 193.96065 \r\nL 356.380416 188.963786 \r\nL 357.027598 191.617388 \r\nL 357.653904 202.053659 \r\nL 358.301086 205.229474 \r\nL 358.927392 204.485832 \r\nL 360.221757 208.506139 \r\nL 360.806309 210.437765 \r\nL 361.453491 205.979957 \r\nL 362.079797 204.82364 \r\nL 362.726979 198.341131 \r\nL 363.353285 197.129 \r\nL 364.000467 197.484392 \r\nL 365.273955 189.105958 \r\nL 366.547443 182.82786 \r\nL 366.547443 182.82786 \r\n\" style=\"fill:none;stroke:#1f77b4;stroke-linecap:square;stroke-width:1.5;\"/>\r\n   </g>\r\n   <g id=\"patch_3\">\r\n    <path d=\"M 46.965625 239.758125 \r\nL 46.965625 22.318125 \r\n\" style=\"fill:none;stroke:#000000;stroke-linecap:square;stroke-linejoin:miter;stroke-width:0.8;\"/>\r\n   </g>\r\n   <g id=\"patch_4\">\r\n    <path d=\"M 381.765625 239.758125 \r\nL 381.765625 22.318125 \r\n\" style=\"fill:none;stroke:#000000;stroke-linecap:square;stroke-linejoin:miter;stroke-width:0.8;\"/>\r\n   </g>\r\n   <g id=\"patch_5\">\r\n    <path d=\"M 46.965625 239.758125 \r\nL 381.765625 239.758125 \r\n\" style=\"fill:none;stroke:#000000;stroke-linecap:square;stroke-linejoin:miter;stroke-width:0.8;\"/>\r\n   </g>\r\n   <g id=\"patch_6\">\r\n    <path d=\"M 46.965625 22.318125 \r\nL 381.765625 22.318125 \r\n\" style=\"fill:none;stroke:#000000;stroke-linecap:square;stroke-linejoin:miter;stroke-width:0.8;\"/>\r\n   </g>\r\n   <g id=\"text_18\">\r\n    <!-- Square Roots -->\r\n    <g transform=\"translate(174.618438 16.318125)scale(0.12 -0.12)\">\r\n     <defs>\r\n      <path d=\"M 947 1747 \r\nQ 947 1113 1208 752 \r\nQ 1469 391 1925 391 \r\nQ 2381 391 2643 752 \r\nQ 2906 1113 2906 1747 \r\nQ 2906 2381 2643 2742 \r\nQ 2381 3103 1925 3103 \r\nQ 1469 3103 1208 2742 \r\nQ 947 2381 947 1747 \r\nz\r\nM 2906 525 \r\nQ 2725 213 2448 61 \r\nQ 2172 -91 1784 -91 \r\nQ 1150 -91 751 415 \r\nQ 353 922 353 1747 \r\nQ 353 2572 751 3078 \r\nQ 1150 3584 1784 3584 \r\nQ 2172 3584 2448 3432 \r\nQ 2725 3281 2906 2969 \r\nL 2906 3500 \r\nL 3481 3500 \r\nL 3481 -1331 \r\nL 2906 -1331 \r\nL 2906 525 \r\nz\r\n\" id=\"DejaVuSans-71\" transform=\"scale(0.015625)\"/>\r\n      <path d=\"M 544 1381 \r\nL 544 3500 \r\nL 1119 3500 \r\nL 1119 1403 \r\nQ 1119 906 1312 657 \r\nQ 1506 409 1894 409 \r\nQ 2359 409 2629 706 \r\nQ 2900 1003 2900 1516 \r\nL 2900 3500 \r\nL 3475 3500 \r\nL 3475 0 \r\nL 2900 0 \r\nL 2900 538 \r\nQ 2691 219 2414 64 \r\nQ 2138 -91 1772 -91 \r\nQ 1169 -91 856 284 \r\nQ 544 659 544 1381 \r\nz\r\nM 1991 3584 \r\nL 1991 3584 \r\nz\r\n\" id=\"DejaVuSans-75\" transform=\"scale(0.015625)\"/>\r\n      <path d=\"M 2841 2188 \r\nQ 3044 2119 3236 1894 \r\nQ 3428 1669 3622 1275 \r\nL 4263 0 \r\nL 3584 0 \r\nL 2988 1197 \r\nQ 2756 1666 2539 1819 \r\nQ 2322 1972 1947 1972 \r\nL 1259 1972 \r\nL 1259 0 \r\nL 628 0 \r\nL 628 4666 \r\nL 2053 4666 \r\nQ 2853 4666 3247 4331 \r\nQ 3641 3997 3641 3322 \r\nQ 3641 2881 3436 2590 \r\nQ 3231 2300 2841 2188 \r\nz\r\nM 1259 4147 \r\nL 1259 2491 \r\nL 2053 2491 \r\nQ 2509 2491 2742 2702 \r\nQ 2975 2913 2975 3322 \r\nQ 2975 3731 2742 3939 \r\nQ 2509 4147 2053 4147 \r\nL 1259 4147 \r\nz\r\n\" id=\"DejaVuSans-52\" transform=\"scale(0.015625)\"/>\r\n      <path d=\"M 2834 3397 \r\nL 2834 2853 \r\nQ 2591 2978 2328 3040 \r\nQ 2066 3103 1784 3103 \r\nQ 1356 3103 1142 2972 \r\nQ 928 2841 928 2578 \r\nQ 928 2378 1081 2264 \r\nQ 1234 2150 1697 2047 \r\nL 1894 2003 \r\nQ 2506 1872 2764 1633 \r\nQ 3022 1394 3022 966 \r\nQ 3022 478 2636 193 \r\nQ 2250 -91 1575 -91 \r\nQ 1294 -91 989 -36 \r\nQ 684 19 347 128 \r\nL 347 722 \r\nQ 666 556 975 473 \r\nQ 1284 391 1588 391 \r\nQ 1994 391 2212 530 \r\nQ 2431 669 2431 922 \r\nQ 2431 1156 2273 1281 \r\nQ 2116 1406 1581 1522 \r\nL 1381 1569 \r\nQ 847 1681 609 1914 \r\nQ 372 2147 372 2553 \r\nQ 372 3047 722 3315 \r\nQ 1072 3584 1716 3584 \r\nQ 2034 3584 2315 3537 \r\nQ 2597 3491 2834 3397 \r\nz\r\n\" id=\"DejaVuSans-73\" transform=\"scale(0.015625)\"/>\r\n     </defs>\r\n     <use xlink:href=\"#DejaVuSans-53\"/>\r\n     <use x=\"63.476562\" xlink:href=\"#DejaVuSans-71\"/>\r\n     <use x=\"126.953125\" xlink:href=\"#DejaVuSans-75\"/>\r\n     <use x=\"190.332031\" xlink:href=\"#DejaVuSans-61\"/>\r\n     <use x=\"251.611328\" xlink:href=\"#DejaVuSans-72\"/>\r\n     <use x=\"290.474609\" xlink:href=\"#DejaVuSans-65\"/>\r\n     <use x=\"351.998047\" xlink:href=\"#DejaVuSans-20\"/>\r\n     <use x=\"383.785156\" xlink:href=\"#DejaVuSans-52\"/>\r\n     <use x=\"448.767578\" xlink:href=\"#DejaVuSans-6f\"/>\r\n     <use x=\"509.949219\" xlink:href=\"#DejaVuSans-6f\"/>\r\n     <use x=\"571.130859\" xlink:href=\"#DejaVuSans-74\"/>\r\n     <use x=\"610.339844\" xlink:href=\"#DejaVuSans-73\"/>\r\n    </g>\r\n   </g>\r\n  </g>\r\n </g>\r\n <defs>\r\n  <clipPath id=\"p1800f2d27e\">\r\n   <rect height=\"217.44\" width=\"334.8\" x=\"46.965625\" y=\"22.318125\"/>\r\n  </clipPath>\r\n </defs>\r\n</svg>\r\n",
      "image/png": "[encoded data removed]"
     },
     "metadata": {
      "needs_background": "light"
     }
    }
   ],
   "metadata": {}
  },
  {
   "cell_type": "markdown",
   "source": [
    "Based on the above line plot, we can answer the following two questions\r\n",
    "\r\n",
    "1. Identify the year during which Coca-Cola had the highest/lowest stock price?\r\n",
    "\r\n",
    "    **Answer** - Coca-Cola Highest/Lowest stock price = **1973/1980**\r\n",
    "    \r\n",
    "\r\n",
    "2. What calendar year did it look to have the biggest (Year-over-Year) percentage increase?\r\n",
    "\r\n",
    "    **Answer** - Biggest Year over Year percentage increase = **1971 through 1973**\r\n",
    "\r\n"
   ],
   "metadata": {}
  },
  {
   "cell_type": "markdown",
   "source": [
    "plt.xlabel('Date')\r\n",
    "plt.ylabel(\"Stock Price\")\r\n",
    "plt.title(\"Square Roots\")\r\n",
    "plt.plot(CocaCola.Date, CocaCola.StockPrice)"
   ],
   "metadata": {}
  }
 ],
 "metadata": {
  "interpreter": {
   "hash": "ecf5722fdaf1897a315d257d89d94520bfcaa453217d5becf09b39e73618b0de"
  },
  "kernelspec": {
   "name": "python3",
   "display_name": "Python 3.9.6 64-bit ('base': conda)"
  },
  "language_info": {
   "codemirror_mode": {
    "name": "ipython",
    "version": 3
   },
   "file_extension": ".py",
   "mimetype": "text/x-python",
   "name": "python",
   "nbconvert_exporter": "python",
   "pygments_lexer": "ipython3",
   "version": "3.9.6"
  }
 },
 "nbformat": 4,
 "nbformat_minor": 4
}